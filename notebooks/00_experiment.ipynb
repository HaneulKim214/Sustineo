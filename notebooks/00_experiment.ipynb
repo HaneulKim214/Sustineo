{
 "cells": [
  {
   "cell_type": "code",
   "execution_count": 1,
   "id": "f3378734",
   "metadata": {},
   "outputs": [],
   "source": [
    "import os\n",
    "import numpy as np\n",
    "import pandas as pd\n",
    "import faiss\n",
    "\n",
    "from langchain.chains import LLMChain\n"
   ]
  },
  {
   "cell_type": "markdown",
   "id": "7501ad08",
   "metadata": {},
   "source": [
    "Core Questions (3 total):\n",
    "\n",
    "1. \"Should employee business travel be classified as Scope 1 or Scope 3? Explain the\n",
    "reasoning and describe how I can calculate my business travel emissions?\"\n",
    "2. “Are my scope 2 emissions calculation valid according to the Greenhouse Gas\n",
    "Protocol?”\n",
    "3. How do my scope 1 & 2 emissions compare with other companies (refer to peer\n",
    "reports in the data sources) in my industry, and what insights can I derive from this\n",
    "comparison?\n",
    "\n",
    "Bonus Questions:\n",
    "\n",
    "1. \"What is our highest emitting Scope 3 category and what specific activities contribute\n",
    "to it?\"\n",
    "2. “Which suppliers should I prioritise to engage for emissions reduction efforts?”\n",
    "3. \"Generate a summary report of our total emissions by scope with key insights\""
   ]
  },
  {
   "cell_type": "code",
   "execution_count": null,
   "id": "c8a0def5",
   "metadata": {},
   "outputs": [],
   "source": [
    "scope1_df = pd.read_csv('data/raw/scope1.csv')\n",
    "scope2_df = pd.read_csv('data/raw/scope2.csv')\n",
    "scope3_df = pd.read_csv('data/raw/scope3.csv')\n",
    "\n",
    "scope1_df['scope'] = 'scope1'\n",
    "scope2_df['scope'] = 'scope2'\n",
    "scope3_df['scope'] = 'scope3'\n",
    "## Improvement: Some columns are referring to same data but in different names, should be combined.\n",
    " # ex: scope1_df['Activity_Type'] = scope2_df['Energy_Type'] = scope3_df['Activity_Description']\n",
    "scope_comb_df = pd.concat([scope1_df, scope2_df, scope3_df])\n",
    "\n",
    "totals = {}\n",
    "totals['scope1'] = scope1_df['CO2e_Tonnes'].sum()\n",
    "totals['scope2'] = scope2_df['CO2e_Tonnes'].sum()\n",
    "totals['scope3'] = scope3_df['CO2e_Tonnes'].sum()\n",
    "totals['total'] = sum(totals.values())"
   ]
  },
  {
   "cell_type": "code",
   "execution_count": null,
   "id": "6f51aba2",
   "metadata": {},
   "outputs": [],
   "source": [
    "scope1_df.head()"
   ]
  },
  {
   "cell_type": "markdown",
   "id": "226e4610",
   "metadata": {},
   "source": [
    "## 1. Emission Analyzer"
   ]
  },
  {
   "cell_type": "markdown",
   "id": "59f2d07f",
   "metadata": {},
   "source": [
    "### Get relevant information from vectorDB"
   ]
  },
  {
   "cell_type": "code",
   "execution_count": 2,
   "id": "a76e0ac9",
   "metadata": {},
   "outputs": [],
   "source": [
    "import PyPDF2\n",
    "import fitz\n",
    "from langchain.text_splitter import RecursiveCharacterTextSplitter\n",
    "\n",
    "from langchain_community.vectorstores import FAISS\n",
    "from typing import List, Dict\n",
    "import re"
   ]
  },
  {
   "cell_type": "code",
   "execution_count": 3,
   "id": "10e29c96",
   "metadata": {},
   "outputs": [],
   "source": [
    "from langchain_google_genai import GoogleGenerativeAIEmbeddings\n",
    "from langchain_google_genai import ChatGoogleGenerativeAI\n",
    "\n",
    "# Wrap Gemini model for LangChain\n",
    "llm = ChatGoogleGenerativeAI(\n",
    "    model=\"gemini-2.5-flash\",\n",
    "    google_api_key=os.environ['GOOGLE_API_KEY'],\n",
    "    temperature=0.1\n",
    ")"
   ]
  },
  {
   "cell_type": "code",
   "execution_count": 14,
   "id": "343e477d",
   "metadata": {},
   "outputs": [],
   "source": [
    "def _clean_text(text: str) -> str:\n",
    "        \"\"\"Clean extracted text\"\"\"\n",
    "        # Remove excessive whitespace\n",
    "        text = re.sub(r'\\s+', ' ', text)\n",
    "        # Remove special characters but keep punctuation\n",
    "        text = re.sub(r'[^\\w\\s\\-.,;:!?()]', '', text)\n",
    "        return text.strip()\n",
    "\n",
    "chunk_size = 1000\n",
    "chunk_overlap = 200\n",
    "api_key = os.getenv(\"GOOGLE_API_KEY\")\n",
    "embeddings = GoogleGenerativeAIEmbeddings(model=\"models/embedding-001\", google_api_key=api_key)\n",
    "doc_name, path = 'peer2', 'data/raw/peer2_emissions_report.pdf'\n",
    "doc = fitz.open(path)\n",
    "\n",
    "documents = []\n",
    "rec_text_splitter = RecursiveCharacterTextSplitter(\n",
    "    chunk_size=chunk_size,\n",
    "    chunk_overlap=chunk_overlap,\n",
    "    length_function=len\n",
    ")\n",
    "\n",
    "text = \"\"\n",
    "for page_num, page in enumerate(doc):\n",
    "    page_text = page.get_text()\n",
    "    # Clean and format text\n",
    "    page_text = _clean_text(page_text)\n",
    "    text += f\"\\n--- Page {page_num + 1} ---\\n{page_text}\\n\""
   ]
  },
  {
   "cell_type": "code",
   "execution_count": 22,
   "id": "e53f93f3",
   "metadata": {},
   "outputs": [],
   "source": [
    "for page_num, page in enumerate(doc):\n",
    "    if page_num == 10:\n",
    "        break"
   ]
  },
  {
   "cell_type": "code",
   "execution_count": 25,
   "id": "25e06d2d",
   "metadata": {},
   "outputs": [
    {
     "data": {
      "text/plain": [
       "[(863, 0, 328, 179, 8, 'ICCBased', '', 'Im87', 'FlateDecode'),\n",
       " (863, 0, 328, 179, 8, 'ICCBased', '', 'Im87', 'FlateDecode')]"
      ]
     },
     "execution_count": 25,
     "metadata": {},
     "output_type": "execute_result"
    }
   ],
   "source": [
    "page.get_images()"
   ]
  },
  {
   "cell_type": "code",
   "execution_count": 29,
   "id": "4d03fb41",
   "metadata": {},
   "outputs": [],
   "source": [
    "import pytesseract"
   ]
  },
  {
   "cell_type": "code",
   "execution_count": 34,
   "id": "cf853992",
   "metadata": {},
   "outputs": [],
   "source": [
    "a = page.get_pixmap().tobytes(\"png\")"
   ]
  },
  {
   "cell_type": "code",
   "execution_count": 21,
   "id": "6f0ad664",
   "metadata": {},
   "outputs": [
    {
     "data": {
      "text/plain": [
       "[(7, 0, 400, 113, 8, 'ICCBased', '', 'Im1', 'FlateDecode')]"
      ]
     },
     "execution_count": 21,
     "metadata": {},
     "output_type": "execute_result"
    }
   ],
   "source": [
    "for img_indx, img in images:\n",
    "    xref = img[0]\n",
    "    img_info = {\n",
    "        \"\"\n",
    "    }"
   ]
  },
  {
   "cell_type": "code",
   "execution_count": null,
   "id": "9200c68b",
   "metadata": {},
   "outputs": [],
   "source": [
    "\"\"\"\n",
    "## Improvements: improve Chunking\n",
    "- Some irrelevant text is included in the text.\n",
    "- Ignore table of contents and unimportant texts in margins of pdf.\n",
    "\n",
    "ex:\n",
    "--- Page 3 ---\n",
    "2 6 10 16 24 34 40 48 58 62 68 74 86 88 90 92 95 96 103 104 Table of Contents G U I D A N C E S T A N D A R D G U I D A N C E S T A N D A R D G U I D A N C E S T A N D A R D G U I D A N C E S T A N D A R D G U I D A N C E S T A N D A R D G U I D A N C E G U I D A N C E G U I D A N C E G U I D A N C E G U I D A N C E G U I D A N C E G U I D A N C E G U I D A N C E S T A N D A R D Introduction The Greenhouse Gas Protocol Initiative Chapter 1 GHG Accounting and Reporting Principles Chapter 2 Business Goals and Inventory Design Chapter 3 Setting Organizational Boundaries Chapter 4 Setting Operational Boundaries Chapter 5 Tracking Emissions Over Time Chapter 6 Identifying and Calculating GHG Emissions Chapter 7 Managing Inventory Quality Chapter 8 Accounting for GHG Reductions Chapter 9 Reporting GHG Emissions Chapter 10 Verification of GHG Emissions Chapter 11 Setting GHG Targets Appendix A Accounting for Indirect Emissions from Electricity Appendix B Accounting for Sequestered Atmospheric Carbon Appendix C Overview of GHG Programs Appendix D Industry Sectors and Scopes Acronyms Glossary References Contributors\n",
    "\n",
    "\"\"\"\n",
    "chunks = rec_text_splitter.split_text(text)\n",
    "\n",
    "# Add metadata\n",
    "for i, chunk in enumerate(chunks):\n",
    "    documents.append({\n",
    "        \"content\": chunk,\n",
    "        \"metadata\": {\n",
    "            \"source\": doc_name,\n",
    "            \"chunk_id\": i,\n",
    "            \"total_chunks\": len(chunks)\n",
    "        }\n",
    "    })"
   ]
  },
  {
   "cell_type": "code",
   "execution_count": null,
   "id": "a5c66624",
   "metadata": {},
   "outputs": [],
   "source": [
    "texts = [doc[\"content\"] for doc in documents]\n",
    "metadatas = [doc[\"metadata\"] for doc in documents]\n",
    "\n",
    "vector_stores = {}\n",
    "\n",
    "emb_dim = len(embeddings.embed_query(\"get_dimension\"))\n",
    "# index_type = \"FlatL2\"\n",
    "# if index_type == \"FlatL2\":\n",
    "#         index = faiss.IndexFlatL2(emb_dim)\n",
    "# elif index_type == \"FlatIP\":\n",
    "#     index = faiss.IndexFlatIP(emb_dim)\n",
    "# elif index_type == \"HNSW\":\n",
    "#     index = faiss.IndexHNSWFlat(emb_dim, 32)  # M=32 neighbors\n",
    "# else:\n",
    "#     raise ValueError(f\"Unknown index_type: {index_type}\")\n",
    "\n",
    "vector_store = FAISS.from_texts(\n",
    "    texts=texts,\n",
    "    embedding=embeddings,\n",
    "    metadatas=metadatas\n",
    ")"
   ]
  },
  {
   "cell_type": "markdown",
   "id": "bb5d2a91",
   "metadata": {},
   "source": [
    "### Summary from emissions data"
   ]
  },
  {
   "cell_type": "code",
   "execution_count": null,
   "id": "ba966c4c",
   "metadata": {},
   "outputs": [],
   "source": [
    "vector_stores[doc_name] = vector_store"
   ]
  },
  {
   "cell_type": "code",
   "execution_count": null,
   "id": "81e87a7a",
   "metadata": {},
   "outputs": [],
   "source": [
    "question1 = \"\"\"Should employee business travel be classified as Scope 1 or Scope 3? \n",
    "Explain the reasoning and describe how I can calculate my business travel emissions?\"\"\"\n",
    "\n",
    "ghg_context = vector_stores['ghg_protocol'].similarity_search(question1, k=3)"
   ]
  },
  {
   "cell_type": "code",
   "execution_count": null,
   "id": "fd15ab26",
   "metadata": {},
   "outputs": [],
   "source": [
    "from langchain.prompts import ChatPromptTemplate\n",
    "qa_prompt = ChatPromptTemplate.from_template(\"\"\"\n",
    "You are an expert sustainability consultant specializing in GHG emissions analysis.\n",
    "\n",
    "Context from GHG Protocol:\n",
    "{ghg_context}\n",
    "\n",
    "Emissions Data Summary:\n",
    "{data_summary}\n",
    "\n",
    "User Question: {question}\n",
    "\n",
    "Please provide a detailed, accurate answer based on the GHG Protocol guidelines and the emissions data.\n",
    "If the question involves calculations, show your work step by step.\n",
    "\"\"\")"
   ]
  },
  {
   "cell_type": "code",
   "execution_count": null,
   "id": "347385a5",
   "metadata": {},
   "outputs": [],
   "source": [
    "print(ghg_context[0].page_content)\n",
    "print(ghg_context[1].page_content)\n",
    "print(ghg_context[2].page_content)"
   ]
  },
  {
   "cell_type": "markdown",
   "id": "5e48b70d",
   "metadata": {},
   "source": [
    "### Summary from emissions data"
   ]
  },
  {
   "cell_type": "markdown",
   "id": "294680c3",
   "metadata": {},
   "source": [
    "##Improvements: Find a way to make retrieved sentences seem not cut off. (ensure full sentence structure)\n",
    " #query_translation: Query decomposition (Multi-query), HyDE\n",
    " #Find bigger pictures -> zoom in. For example, read through table of contents to figure out few chapters\n",
    "  #that may talk about list of scope3. Then grab top-k from there.\n",
    "\n",
    "companys scope 1 and scope 2 emissions  They contribute to the companys GHG risk exposure  They are deemed critical by key stakeholders (e.g., feedback from customers, suppliers, investors, or civil society)  There are potential emissions reductions that could be undertaken or influenced by the company. The following examples may help decide which scope 3 categories are relevant to the company.  If fossil fuel or electricity is required to use the companys products, product use phase emissions may be a relevant category to report. This may be espe- cially important if the company can influence product design attributes (e.g., energy efficiency) or customer behavior in ways that reduce GHG emissions during the use of the products. G U I D A N C E Set ting Operational Boundaries C H A P T E R 4 30 FIGURE 5. Accounting of emissions from leased assets Parent Company Company A Scope 1 Scope 1 Scope 2 Scope 3 Leased car fleet (selected consolidation criterion applies) Leased building\n",
    "\n",
    "\n",
    "GHG emissions Scope 3 is an optional reporting category that allows for the treatment of all other indirect emissions. Scope 3 emissions are a consequence of the activities of the company, but occur from sources not owned or controlled by the company. Some examples of scope 3 activities are extraction and production of purchased materials; transportation of purchased fuels; and use of sold products and services. C H A P T E R 4 Setting Operational Boundaries 25 S T A N D A R D FIGURE 2. Organizational and operational boundaries of a company Parent Company Company A Ship fleet Leased building Direct and indirect emissions Car fleet Power generation unit Leased factory Owned Controlled building Owned Controlled building Company B Company C Company D ORGANIZATIONAL BOUNDARIES OPERATIONAL BOUNDARIES\n",
    "\n",
    "\n",
    "C H A P T E R 4 Setting Operational Boundaries 31  Outsourced activities are often candidates for scope 3 emissions assessments. It may be particularly important to include these when a previously outsourced activity contributed significantly to a companys scope 1 or scope 2 emissions.  If GHG-intensive materials represent a significant fraction of the weight or composition of a product used or manufactured (e.g., cement, aluminum), companies may want to examine whether there are opportunities to reduce their consumption of the product or to substitute less GHG-intensive materials.  Large manufacturing companies may have significant emissions related to transporting purchased materials to centralized production facilities.  Commodity and consumer product companies may want to account for GHGs from transporting raw materials, products, and waste.  Service sector companies may want to report on emis- sions from employee business travel; this emissions source is not as likely to be\n",
    "\n",
    "\n",
    " --------------- try2 :\n",
    "companys scope 1 and scope 2 emissions  They contribute to the companys GHG risk exposure  They are deemed critical by key stakeholders (e.g., feedback from customers, suppliers, investors, or civil society)  There are potential emissions reductions that could be undertaken or influenced by the company. The following examples may help decide which scope 3 categories are relevant to the company.  If fossil fuel or electricity is required to use the companys products, product use phase emissions may be a relevant category to report. This may be espe- cially important if the company can influence product design attributes (e.g., energy efficiency) or customer behavior in ways that reduce GHG emissions during the use of the products. G U I D A N C E Set ting Operational Boundaries C H A P T E R 4 30 FIGURE 5. Accounting of emissions from leased assets Parent Company Company A Scope 1 Scope 1 Scope 2 Scope 3 Leased car fleet (selected consolidation criterion applies) Leased building\n",
    "\n",
    "\n",
    "GHG emissions Scope 3 is an optional reporting category that allows for the treatment of all other indirect emissions. Scope 3 emissions are a consequence of the activities of the company, but occur from sources not owned or controlled by the company. Some examples of scope 3 activities are extraction and production of purchased materials; transportation of purchased fuels; and use of sold products and services. C H A P T E R 4 Setting Operational Boundaries 25 S T A N D A R D FIGURE 2. Organizational and operational boundaries of a company Parent Company Company A Ship fleet Leased building Direct and indirect emissions Car fleet Power generation unit Leased factory Owned Controlled building Owned Controlled building Company B Company C Company D ORGANIZATIONAL BOUNDARIES OPERATIONAL BOUNDARIES\n",
    "\n",
    "\n",
    "C H A P T E R 4 Setting Operational Boundaries 31  Outsourced activities are often candidates for scope 3 emissions assessments. It may be particularly important to include these when a previously outsourced activity contributed significantly to a companys scope 1 or scope 2 emissions.  If GHG-intensive materials represent a significant fraction of the weight or composition of a product used or manufactured (e.g., cement, aluminum), companies may want to examine whether there are opportunities to reduce their consumption of the product or to substitute less GHG-intensive materials.  Large manufacturing companies may have significant emissions related to transporting purchased materials to centralized production facilities.  Commodity and consumer product companies may want to account for GHGs from transporting raw materials, products, and waste.  Service sector companies may want to report on emis- sions from employee business travel; this emissions source is not as likely to be"
   ]
  },
  {
   "cell_type": "code",
   "execution_count": null,
   "id": "50372fdf",
   "metadata": {},
   "outputs": [],
   "source": [
    "print(qa_prompt.format(ghg_context=ghg_context_txt, data_summary=summary, question=question1))"
   ]
  },
  {
   "cell_type": "code",
   "execution_count": null,
   "id": "25ac0e20",
   "metadata": {},
   "outputs": [],
   "source": [
    "ghg_context_txt = \"\"\n",
    "for i, context in enumerate(ghg_context):\n",
    "    ghg_context_txt += f\"{i+1}. {context.page_content} \\n\\n\""
   ]
  },
  {
   "cell_type": "markdown",
   "id": "263b70d3",
   "metadata": {},
   "source": [
    "### Summary from emissions data"
   ]
  },
  {
   "cell_type": "code",
   "execution_count": null,
   "id": "b0761bb1",
   "metadata": {},
   "outputs": [],
   "source": [
    "def df_to_text(grouped_df, value_cols=[\"CO2e_Tonnes\"], decimal_places=2):\n",
    "    \"\"\"\n",
    "    Convert a grouped DataFrame into a readable text format with automatic column names.\n",
    "    \n",
    "    Args:\n",
    "        grouped_df (pd.DataFrame): Grouped DataFrame (can have any grouping columns).\n",
    "        value_col (str): Column to display as the value.\n",
    "        decimal_places (int): Decimal places for the value column.\n",
    "        \n",
    "    Returns:\n",
    "        str: Formatted text.\n",
    "    \"\"\"\n",
    "    grouped_df = grouped_df.reset_index()\n",
    "    grouped_df[value_cols] = np.round(grouped_df[value_cols], decimal_places)\n",
    "    \n",
    "    # Determine all columns except the value column\n",
    "    grp_cols = [col for col in grouped_df.columns if col not in value_cols]\n",
    "    \n",
    "    text_output = \"\"\n",
    "    for row in grouped_df.itertuples():\n",
    "        row_text = \", \".join([f\"{col}: {getattr(row, col)}\" for col in grp_cols])\n",
    "        for value_col in value_cols:\n",
    "            row_text += f\", {value_col}: {getattr(row, value_col)}\"\n",
    "        text_output += row_text + \"\\n\"\n",
    "        \n",
    "    return text_output"
   ]
  },
  {
   "cell_type": "code",
   "execution_count": null,
   "id": "50e69373",
   "metadata": {},
   "outputs": [],
   "source": [
    "scope1_grouped_df = scope1_df.groupby(['Facility', 'Activity_Type', \"Fuel_Type\"])[['CO2e_Tonnes']].sum()\n",
    "scope2_grouped_df = scope2_df.groupby(['Facility', 'Energy_Type']).agg(\n",
    "    CO2e_Tonnes=('CO2e_Tonnes', 'sum'),  \n",
    "    Renewable_Percentage=('Renewable_Percentage', 'mean')\n",
    ")"
   ]
  },
  {
   "cell_type": "code",
   "execution_count": null,
   "id": "550b738a",
   "metadata": {},
   "outputs": [],
   "source": [
    "scope3_grp_cate_activity_df = scope3_df.groupby(['Category', 'Activity_Description'])[['CO2e_Tonnes']].sum()\n",
    "scope3_grp_supplier_df = scope3_df.groupby(['Supplier'])[['CO2e_Tonnes']].sum()"
   ]
  },
  {
   "cell_type": "code",
   "execution_count": null,
   "id": "19069bd9",
   "metadata": {},
   "outputs": [],
   "source": [
    "# scope_comb_df.groupby(['Category', 'scope'])[['CO2e_Tonnes']].sum()\n",
    "top_k = 3\n",
    "emitters_by_cat = scope3_df.groupby(['Category'])[['CO2e_Tonnes']].sum().reset_index()\n",
    "top3_emitters_by_cat = emitters_by_cat.sort_values(by='CO2e_Tonnes', ascending=False).iloc[:top_k]\n",
    "\n",
    "summary = f\"\"\"\n",
    "Total Emissions Overview:\n",
    "- Scope 1: {totals.get('scope1', 0):.2f} tCO2e\n",
    "- Scope 2: {totals.get('scope2', 0):.2f} tCO2e  \n",
    "- Scope 3: {totals.get('scope3', 0):.2f} tCO2e\n",
    "- Total: {totals.get('total', 0):.2f} tCO2e\n",
    "\n",
    "<Scope 1 emissions summary by facility, activity type, and fuel type>\n",
    "{df_to_text(scope1_grouped_df, decimal_places=2)}\n",
    "</Scope 1 emissions summary by facility, activity type, and fuel type>\n",
    "\n",
    "<Scope 2 emissions summary by facility and renewable energy percentage>\n",
    "{df_to_text(scope2_grouped_df, value_cols=[\"CO2e_Tonnes\", \"Renewable_Percentage\"], decimal_places=2)}\n",
    "</Scope 2 emissions summary by facility and renewable energy percentage>\n",
    "\n",
    "<Scope 3 emissions summary by category and activity>\n",
    "{df_to_text(scope3_grp_cate_activity_df, decimal_places=2)}\n",
    "</Scope 3 emissions summary by category and activity>\n",
    "\n",
    "<Scope 3 emissions summary by supplier>\n",
    "{df_to_text(scope3_grp_supplier_df, decimal_places=2)}\n",
    "</Scope 3 emissions summary by supplier>\n",
    "\n",
    "Data Records:\n",
    "- Scope 1: {len(scope1_df)} entries\n",
    "- Scope 2: {len(scope2_df)} entries\n",
    "- Scope 3: {len(scope3_df)} entries\n",
    "\"\"\"\n",
    "# Add top categories if available\n",
    "if not top3_emitters_by_cat.empty:\n",
    "    summary += \"\\n\\nTop3 Scope 3 Categories:\\n\"\n",
    "    ## Improvements: Avoid loop, print whole dataframe at once or pass markdown table.\n",
    "    for row in top3_emitters_by_cat.itertuples():\n",
    "        cat = getattr(row, 'Category')\n",
    "        emissions = getattr(row, 'CO2e_Tonnes')\n",
    "        summary += f\"- {cat}: {emissions:.2f} tCO2e\\n\"\n",
    "\n",
    "print(summary)"
   ]
  },
  {
   "cell_type": "markdown",
   "id": "3a36b3d3",
   "metadata": {},
   "source": [
    "# Answer1 - t1\n",
    "\n",
    "As an expert sustainability consultant specializing in GHG emissions analysis, I can definitively answer your question regarding employee business travel classification and calculation based on GHG Protocol guidelines.\n",
    "\n",
    "---\n",
    "\n",
    "### Classification of Employee Business Travel Emissions\n",
    "\n",
    "Employee business travel should be classified as **Scope 3 emissions**.\n",
    "\n",
    "**Reasoning based on GHG Protocol:**\n",
    "\n",
    "The provided GHG Protocol context explicitly supports this classification:\n",
    "[###Improvements: context2 is giving vague answer, is straight answer better? -> use hybrid search (BM25+Semantic),\n",
    "  context3 is just bad...]\n",
    "*   **Context 2** states: \"Scope 3 emissions are a consequence of the activities of the company, but occur from sources not owned or controlled by the company.\"\n",
    "*   **Context 3** further clarifies: \"Service sector companies may want to report on emissions from employee business travel; this emissions source is not as likely to be [significant for other sectors, implied].\"\n",
    "\n",
    "When employees travel for business, they typically use services provided by third parties (e.g., airlines, train companies, rental car agencies, hotels). The company does not own or control the aircraft, trains, vehicles, or hotel buildings that generate these emissions. Therefore, these emissions are indirect and fall under Scope 3.\n",
    "\n",
    "---\n",
    "\n",
    "### How to Calculate Business Travel Emissions\n",
    "[###Improvements: We could make this sequential, ask first question then use answer to select dataset to \n",
    " summarize, in this case scope3. Then use that summary to answer second question.]\n",
    "\n",
    "Calculating business travel emissions involves collecting activity data and applying appropriate emission factors. Here's a step-by-step guide:\n",
    "\n",
    "**1. Data Collection:**\n",
    "Gather detailed information on all employee business travel activities for the reporting period. This typically includes:\n",
    "\n",
    "Your company's Scope 3 emissions are substantial, totaling **374,485.51 tCO2e** across 1000 entries. While \"employee business travel\" is not explicitly listed among your \"Top 3 Scope 3 Categories,\" it is a common and important category for many companies, particularly those in the service sector. Given the large number of Scope 3 entries, it is highly probable that employee business travel is already included within your reported Scope 3, or it should be if not currently accounted for.\n",
    "\n",
    "By following these steps, you can accurately quantify your employee business travel emissions and ensure compliance with GHG Protocol guidelines.\n",
    "Output is truncated. View as a scrollable element or open in a text editor. Adjust cell output settings..."
   ]
  },
  {
   "cell_type": "markdown",
   "id": "fbd7e025",
   "metadata": {},
   "source": [
    "Answer1 - t2\n",
    "\"\"\"Employee business travel should be classified as **Scope 3** emissions.\n",
    "\n",
    "### Reasoning for Classification\n",
    "\n",
    "According to the GHG Protocol guidelines provided:\n",
    "\n",
    "*   **Scope 1 emissions** are direct emissions from sources that are owned or controlled by the company. Examples include emissions from company-owned vehicles (like the fleet operations in your data) or stationary combustion at owned facilities.\n",
    "*   **Scope 2 emissions** are indirect emissions from the generation of purchased electricity, steam, heat, or cooling consumed by the company.\n",
    "*   **Scope 3 emissions** are all other indirect emissions that are a consequence of the company's activities but occur from sources *not owned or controlled* by the company.\n",
    "\n",
    "The provided GHG Protocol context explicitly mentions: \"Service sector companies may want to report on emissions from employee business travel; this emissions source is not as likely to be...\" (implying it's a relevant Scope 3 category).\n",
    "\n",
    "Employee business travel typically involves activities such as air travel, hotel stays, or use of rental cars, which are services provided by third parties (airlines, hotels, car rental companies). The company does not own or directly control the aircraft, hotels, or rental vehicles used for these activities. Therefore, the emissions generated from these activities are indirect and fall under Scope 3.\n",
    "\n",
    "### How to Calculate Business Travel Emissions\n",
    "\n",
    "To calculate your business travel emissions, you need to gather activity data related to employee travel and apply appropriate emission factors.\n",
    "\n",
    "**General Calculation Method:**\n",
    "\n",
    "1.  **Collect Activity Data:** This involves tracking the distance traveled by mode of transport (e.g., air miles, train miles, car miles), the type of fuel consumed (if applicable for rental cars), or the number of nights spent in hotels.\n",
    "    *   For air travel: Distance flown (e.g., passenger-miles or tonne-miles) by flight class (economy, business, first) and route type (short-haul, long-haul).\n",
    "    *   For rail travel: Distance traveled by train type.\n",
    "    *   For road travel (rental cars, taxis): Distance traveled or fuel consumed.\n",
    "2.  **Apply Emission Factors:** Use relevant emission factors for each mode of transport. These factors convert activity data (e.g., miles, liters of fuel) into CO2e emissions. Emission factors are typically sourced from government agencies, industry bodies, or specialized databases (e.g., DEFRA, EPA, ICAO).\n",
    "    *   Example: (Total miles flown by employees) x (CO2e emission factor per mile for air travel) = Total air travel emissions.\n",
    "\n",
    "**Calculation from Your Provided Emissions Data:**\n",
    "\n",
    "Your provided data already includes a breakdown of Scope 3 emissions by activity, specifically listing \"Business Travel - Air\" across various categories. To calculate your total business travel emissions from this data, you need to sum the `CO2e_Tonnes` for all entries with the `Activity_Description` of \"Business Travel - Air\".\n",
    "\n",
    "Let's sum these values:\n",
    "\n",
    "*   Category 1: 3230.54 tCO2e\n",
    "*   Category 10: 2245.73 tCO2e\n",
    "*   Category 11: 1836.18 tCO2e\n",
    "*   Category 12: 2446.51 tCO2e\n",
    "*   Category 13: 4271.45 tCO2e\n",
    "*   Category 14: 2866.76 tCO2e\n",
    "*   Category 15: 1582.76 tCO2e\n",
    "*   Category 2: 2632.44 tCO2e\n",
    "*   Category 3: 4874.98 tCO2e\n",
    "*   Category 4: 836.95 tCO2e\n",
    "*   Category 5: 2748.65 tCO2e\n",
    "*   Category 6: 4414.45 tCO2e\n",
    "*   Category 7: 3395.58 tCO2e\n",
    "*   Category 8: 2473.86 tCO2e\n",
    "*   Category 9: 6455.23 tCO2e\n",
    "\n",
    "**Total Business Travel Emissions (Air):**\n",
    "3230.54 + 2245.73 + 1836.18 + 2446.51 + 4271.45 + 2866.76 + 1582.76 + 2632.44 + 4874.98 + 836.95 + 2748.65 + 4414.45 + 3395.58 + 2473.86 + 6455.23 = **46317.87 tCO2e** [###Improvements: summation error. It should be 46312.07]\n",
    "\n",
    "Based on your provided data, your total employee business travel (air) emissions are **46,317.87 tCO2e**. This figure represents a significant portion of your overall Scope 3 emissions and should be a key focus for reduction strategies.\n",
    "\"\"\"\n",
    "\n"
   ]
  },
  {
   "cell_type": "code",
   "execution_count": null,
   "id": "89da7e6c",
   "metadata": {},
   "outputs": [],
   "source": [
    "chain = qa_prompt | llm # LAngChain Expresison LAngugage\n",
    "response = chain.invoke({\n",
    "    'ghg_context':ghg_context_txt,\n",
    "    'data_summary':summary,\n",
    "    'question':question1}\n",
    ")\n",
    "\n"
   ]
  },
  {
   "cell_type": "code",
   "execution_count": null,
   "id": "3217bc07",
   "metadata": {},
   "outputs": [],
   "source": [
    "print(question1)\n",
    "print(\"---\")\n",
    "print(response)"
   ]
  },
  {
   "cell_type": "code",
   "execution_count": null,
   "id": "d3e72968",
   "metadata": {},
   "outputs": [],
   "source": [
    "np.round(scope3_grp_cate_activity_df.loc[(slice(None), 'Business Travel - Air'), :], 2).sum()"
   ]
  },
  {
   "cell_type": "code",
   "execution_count": null,
   "id": "4136f238",
   "metadata": {},
   "outputs": [],
   "source": [
    "response"
   ]
  },
  {
   "cell_type": "markdown",
   "id": "384d6fd2",
   "metadata": {},
   "source": [
    "# Q2"
   ]
  },
  {
   "cell_type": "code",
   "execution_count": null,
   "id": "6466cb2a",
   "metadata": {},
   "outputs": [],
   "source": [
    "    \n",
    "def assess_scope2_validity(scope2_data: pd.DataFrame) -> Dict:\n",
    "    \"\"\"\n",
    "    Simple validation: Are Scope 2 emissions calculations valid according to GHG Protocol?\n",
    "    \n",
    "    Things to check score_range=[0,1]:\n",
    "    1. Basic data structure\n",
    "    2. Required columns(co2e emission)/data for GHG Protocol\n",
    "        2.1. Must include electricity, steam, heating, and cooling\n",
    "        2.2. Should contain two reporting methods: location-based, market-based\n",
    "            In order to compute location-based emissions, it must include Emission factor and Consumption amount\n",
    "            and market-based emissions, it must include Renewable percentage\n",
    "    3. Accounting method (GHG Protocol requirement)\n",
    "    4. Data quality - no negative emissions\n",
    "    \"\"\"\n",
    "    issues = []\n",
    "    validity_threshold = 100\n",
    "    # Check 1: Basic data structure\n",
    "    if scope2_data.empty:\n",
    "        return {\n",
    "            \"is_valid\": False,\n",
    "            \"score\": 0,\n",
    "            \"issues\": [\"No Scope 2 data provided\"],\n",
    "            \"summary\": \"Invalid: No data to validate\"\n",
    "        }\n",
    "    \n",
    "    # Check 2: Required columns/data for GHG Protocol\n",
    "    ### Improvements: Should handle synonyms. -> Should do some data engineering or notice users to change column name apporpriately.\n",
    "    # For example, 'CO2e_Tonnes' -> 'emissions_tco2e' \n",
    "    required_cols = ['CO2e_Tonnes']\n",
    "    scope2_cols = scope2_data.columns   \n",
    "    missing_cols = [col for col in required_cols if col not in scope2_cols]\n",
    "    if missing_cols:\n",
    "        issues.append(f\"Missing required columns: {', '.join(missing_cols)}\")\n",
    "    \n",
    "    location_based_possible = False\n",
    "    market_based_possible = False\n",
    "    # 2.2. Check if we can compute location-based emissions\n",
    "    if 'Emission_Factor' in scope2_cols and 'Consumption_Amount' in scope2_cols:\n",
    "        location_based_possible = True\n",
    "        # Check if at least one record is negative (this also checks Null.)\n",
    "        invalid_emission_factor = (scope2_data['Emission_Factor'] < 0).sum()\n",
    "        invalid_consumption_amount =  (scope2_data['Consumption_Amount'] < 0).sum()\n",
    "        if invalid_emission_factor > 0 and invalid_consumption_amount > 0:\n",
    "            issues.append(f\"Negative values in Emission_Factor or Consumption_Amount columns\")\n",
    "    else:\n",
    "        issues.append(\"Cannot compute location-based emissions: missing Emission_Factor or Consumption_Amount\")\n",
    "    \n",
    "    # Check if we can compute market-based emissions\n",
    "    if 'Renewable_Percentage' in scope2_data.columns:\n",
    "        market_based_possible = True\n",
    "        # Market-based emissions would be lower due to renewable energy\n",
    "        renewable_avg = scope2_data['Renewable_Percentage'].mean()\n",
    "        if renewable_avg <= 0:\n",
    "            issues.append(\"No renewable energy data available for market-based calculation\")\n",
    "    else:\n",
    "        issues.append(\"Cannot compute market-based emissions: missing Renewable_Percentage data\")\n",
    "    \n",
    "    # Check 4: Data quality - no negative emissions\n",
    "    if 'CO2e_Tonnes' in scope2_data.columns:\n",
    "        negative_emissions = (scope2_data['CO2e_Tonnes'] < 0).sum()\n",
    "        if negative_emissions > 0:\n",
    "            issues.append(f\"{negative_emissions} records have negative emissions\")\n",
    "    \n",
    "    # Calculate simple score\n",
    "    score = max(0, 100 - len(issues) * 25)  # -25 points per issue\n",
    "    is_valid = score >= validity_threshold\n",
    "    if is_valid:\n",
    "        summary = \"Valid: Scope 2 emissions meets GHG Protocol requirements\"\n",
    "    else:\n",
    "        summary = f\"Invalid: {len(issues)} issues found that need addressing\"\n",
    "    \n",
    "    return {\n",
    "        \"is_valid\": is_valid,\n",
    "        \"score\": score,\n",
    "        \"issues\": issues,\n",
    "        \"location_based_possible\": location_based_possible,\n",
    "        \"market_based_possible\": market_based_possible,\n",
    "        \"summary\": summary\n",
    "    }"
   ]
  },
  {
   "cell_type": "code",
   "execution_count": null,
   "id": "ee44feb4",
   "metadata": {},
   "outputs": [],
   "source": [
    "question2 = \"Are my scope 2 emissions calculation valid according to the Greenhouse Gas Protocol?\"\n",
    "\n",
    "validation_result = agent.validate_scope2_emissions()\n",
    "\n",
    "# Show issues if any\n",
    "if 'issues' in validation_result and validation_result['issues']:\n",
    "    display(Markdown(\"\\n**Issues Found:**\"))\n",
    "    for issue in validation_result['issues']:\n",
    "        display(Markdown(f\"- **{issue.severity.upper()}:** {issue.description}\"))\n",
    "        display(Markdown(f\"  - *Recommendation:* {issue.recommendation}\"))"
   ]
  },
  {
   "cell_type": "code",
   "execution_count": null,
   "id": "82ee2eb4",
   "metadata": {},
   "outputs": [],
   "source": [
    "validation_result = assess_scope2_validity(scope2_df)"
   ]
  },
  {
   "cell_type": "code",
   "execution_count": null,
   "id": "b15ff84a",
   "metadata": {},
   "outputs": [],
   "source": [
    "question2 = \"Are my scope 2 emissions calculation valid according to the Greenhouse Gas Protocol?\"\n",
    "question2_revised = \"Scope 2 accounting methods location-based market-based requirements\"\n",
    "\n",
    "q2_context = vector_stores['ghg_protocol'].similarity_search(question2_revised, k=3)"
   ]
  },
  {
   "cell_type": "code",
   "execution_count": null,
   "id": "138bf4aa",
   "metadata": {},
   "outputs": [],
   "source": [
    "q2_context[0]"
   ]
  },
  {
   "cell_type": "code",
   "execution_count": null,
   "id": "a9b5abe6",
   "metadata": {},
   "outputs": [],
   "source": [
    "[{\"content\": doc.page_content,\n",
    "            \"source\": doc.metadata.get(\"source\", doc_name)\n",
    "        } for doc, score in q2_context]"
   ]
  },
  {
   "cell_type": "markdown",
   "id": "12256a22",
   "metadata": {},
   "source": []
  },
  {
   "cell_type": "markdown",
   "id": "7f29b590",
   "metadata": {},
   "source": [
    "# Q3"
   ]
  },
  {
   "cell_type": "code",
   "execution_count": null,
   "id": "cf9a3c73",
   "metadata": {},
   "outputs": [],
   "source": [
    "totals"
   ]
  },
  {
   "cell_type": "code",
   "execution_count": null,
   "id": "b1df3467",
   "metadata": {},
   "outputs": [],
   "source": [
    "question3 = \"\"\"How do my scope 1 & 2 emissions compare with other companies in my industry, \n",
    "and what insights can I derive from this comparison?\"\"\"\n",
    "comparison = agent.compare_with_peers()\n",
    "\n",
    "display(Markdown(f\"### Question: {question3}\"))\n",
    "display(Markdown(\"### Comparison Results:\"))\n",
    "\n",
    "# Display comparison table\n",
    "comparison_df = pd.DataFrame(comparison['comparison_table'])\n",
    "display(comparison_df.style.highlight_min(axis=0, color='lightgreen').highlight_max(axis=0, color='lightcoral'))\n",
    "\n",
    "# Display insights\n",
    "display(Markdown(\"\\n### Key Insights:\"))\n",
    "for insight in comparison['insights']:\n",
    "    display(Markdown(f\"- {insight}\"))\n",
    "\n",
    "# Create visualization\n",
    "import plotly.graph_objects as go\n",
    "\n",
    "fig = go.Figure()\n",
    "companies = comparison_df['Company'].tolist()\n",
    "scopes = ['Scope 1', 'Scope 2', 'Scope 3']\n",
    "\n",
    "for scope in scopes:\n",
    "    fig.add_trace(go.Bar(\n",
    "        name=scope,\n",
    "        x=companies,\n",
    "        y=comparison_df[scope].tolist()\n",
    "    ))\n",
    "\n",
    "fig.update_layout(\n",
    "    title=\"Emissions Comparison with Industry Peers\",\n",
    "    xaxis_title=\"Company\",\n",
    "    yaxis_title=\"Emissions (tCO2e)\",\n",
    "    barmode='stack'\n",
    ")\n",
    "\n",
    "fig.show()"
   ]
  },
  {
   "cell_type": "markdown",
   "id": "e9976c93",
   "metadata": {},
   "source": [
    "## 4. QA and actionable suggestion measurements\n",
    "\n",
    "How can Agent give suggestions:\n",
    "App1:\n",
    "1. We can use external (real-time) sources like News, regulations, etc... to retrieve information about changing trends/regulations\n",
    "2. feed this as context \n"
   ]
  }
 ],
 "metadata": {
  "kernelspec": {
   "display_name": "project_green",
   "language": "python",
   "name": "python3"
  },
  "language_info": {
   "codemirror_mode": {
    "name": "ipython",
    "version": 3
   },
   "file_extension": ".py",
   "mimetype": "text/x-python",
   "name": "python",
   "nbconvert_exporter": "python",
   "pygments_lexer": "ipython3",
   "version": "3.13.5"
  }
 },
 "nbformat": 4,
 "nbformat_minor": 5
}
